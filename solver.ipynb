{
 "metadata": {
  "language_info": {
   "codemirror_mode": {
    "name": "ipython",
    "version": 3
   },
   "file_extension": ".py",
   "mimetype": "text/x-python",
   "name": "python",
   "nbconvert_exporter": "python",
   "pygments_lexer": "ipython3",
   "version": "3.8.5-final"
  },
  "orig_nbformat": 2,
  "kernelspec": {
   "name": "python3",
   "display_name": "Python 3.8.5 64-bit",
   "metadata": {
    "interpreter": {
     "hash": "31f2aee4e71d21fbe5cf8b01ff0e069b9275f58929596ceb00d14d90e3e16cd6"
    }
   }
  }
 },
 "nbformat": 4,
 "nbformat_minor": 2,
 "cells": [
  {
   "cell_type": "code",
   "execution_count": 4,
   "metadata": {},
   "outputs": [
    {
     "output_type": "stream",
     "name": "stdout",
     "text": [
      "280   1 2 0 6W1 4W1 3L2 5W2 2L1 1L2 \n"
     ]
    }
   ],
   "source": [
    "s = open('RND-2.txt', 'r').read().split('\\n')[:-1]\n",
    "print(len(s), ' ', s[-1])"
   ]
  },
  {
   "cell_type": "code",
   "execution_count": 20,
   "metadata": {},
   "outputs": [
    {
     "output_type": "stream",
     "name": "stdout",
     "text": [
      "0 2 0 1L2 3L2 4W1 5W2 6W1 2L1 \n0 2 0 1L2 4W1 3L2 5W2 6W1 2L1 \n0 2 0 4W1 1L2 3L2 5W2 6W1 2L1 \n"
     ]
    }
   ],
   "source": [
    "for line in s:\n",
    "    data_list = line.split(' ')\n",
    "    idx_4W1 = data_list.index('4W1')\n",
    "    idx_5W2 = data_list.index('5W2')\n",
    "    idx_6W1 = data_list.index('6W1')\n",
    "    idx_1L2 = data_list.index('1L2')\n",
    "    idx_2L1 = data_list.index('2L1')\n",
    "    idx_3L2 = data_list.index('3L2')\n",
    "    # fence 1\n",
    "    if idx_4W1 > idx_5W2 or idx_4W1 > idx_6W1:\n",
    "        continue\n",
    "    # fence 2\n",
    "    if idx_6W1 < idx_5W2 or idx_6W1 < idx_4W1:\n",
    "        continue;\n",
    "    # fence 3\n",
    "    if idx_2L1 < idx_1L2 or idx_3L2 < idx_1L2:\n",
    "        continue\n",
    "    # fence 4\n",
    "    if idx_3L2 < idx_2L1 or idx_3L2 < idx_1L2:\n",
    "        continue\n",
    "    # pc fence?\n",
    "    if idx_3L2 < idx_1L2 or idx_6W1 < idx_4W1:\n",
    "        continue\n",
    "    print(line)"
   ]
  },
  {
   "cell_type": "code",
   "execution_count": null,
   "metadata": {},
   "outputs": [],
   "source": []
  }
 ]
}